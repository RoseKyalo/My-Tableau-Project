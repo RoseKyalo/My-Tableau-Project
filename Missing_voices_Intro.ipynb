{
 "cells": [
  {
   "cell_type": "markdown",
   "metadata": {
    "id": "nppLJiTP1iXS"
   },
   "source": [
    "# **Insights on ExtraJudicial Killings in Kenya.**\n",
    "\n",
    "<img src=\"images.jpg\" alt=\"image\" width=\"1000\" height=\"400\">\n",
    "\n",
    "## **Introduction**\n",
    "\n",
    "Among the 17 global goals, one crucial aim is to ensure peace, justice, and strong institutions. This objective encompasses several specific targets, including:\n",
    "\n",
    "1. **Target 16.1:** To significantly reduce all forms of violence and related death rates globally.\n",
    "\n",
    "2. **Target 16.3:** To promote the rule of law at the national and international levels and ensure equal access to justice for all.\n",
    "\n",
    "3. **Target 16.6:** To develop effective, accountable and transparent institutions at all levels.\n",
    "\n",
    "Extrajudicial killings—those carried out without legal authority—fall under these targets. They represent a violation of the rule of law and justice and hinder efforts to reduce violence.\n",
    "\n",
    "In Kenya, according to Missing voices a campaign group focused on extrajudicial killings,there has been 1,264 cases since 2017 when it started collecting the data.It is reported that only a handful of police officers have been convicted through investigations done by Independent Policing Oversight Authority (IPOA).\n",
    "\n",
    "In 2016, the case involving Willie Kimani, Josephat Mwenda, and their taxi driver, Joseph Muiruri, captured national attention. Josephat had filed a complaint with the Independent Policing Oversight Authority (IPOA) after being shot by a police officer. Assigned to the case, Willie Kimani and his companions were later illegally detained and tragically found dead in a river in Machakos County. This incident represents the broader issue of extrajudicial killings in Kenya.\n",
    "\n",
    "## **Objective**\n",
    "\n",
    "This project aims to explore extrajudicial killings in Kenya sourced from the Missing Voices website.By analyzing this data, we seek to inform the development of policies aimed at curbing extrajudicial killings and promoting accountability within law enforcement agencies.\n",
    "\n",
    "## **Problem Statement**\n",
    "The consistent occurence of extrajudicial killings in Kenya represents violation of human rights and a pressing need for comprehensive policy reforms  to address the root causes of extrajudicial killings in Kenya, safeguard human rights, and ensure accountability and justice for victims and their families.\n",
    "\n",
    "## **Data Source**\n",
    "The data is sourced from Missing Voices website comprising 512 entries with the following attributes;            \n",
    "1. Age: Age of the missing individual.\n",
    "2. Name: Name of the missing individual.\n",
    "3. Sex: Gender of the missing individual.\n",
    "4. Location: Location where the individual went missing.\n",
    "5. Date of Incident: Date when the individual went missing.\n",
    "6. Manner of Death: Circumstances surrounding the individual's demise.\n",
    "\n",
    "## **Tools**\n",
    "Data cleaning and preparation were conducted using Tableau and Excel. These tools facilitated the organization and analysis of the dataset, enabling us to derive meaningful insights into the issue of extrajudicial killings in Kenya.\n",
    "\n",
    "\n",
    "\n",
    "\n",
    "              \n",
    "        \n",
    "   \n",
    "\n",
    "\n",
    "\n",
    "\n",
    "\n",
    "\n"
   ]
  }
 ],
 "metadata": {
  "colab": {
   "provenance": []
  },
  "kernelspec": {
   "display_name": "Python 3",
   "language": "python",
   "name": "python3"
  },
  "language_info": {
   "codemirror_mode": {
    "name": "ipython",
    "version": 3
   },
   "file_extension": ".py",
   "mimetype": "text/x-python",
   "name": "python",
   "nbconvert_exporter": "python",
   "pygments_lexer": "ipython3",
   "version": "3.8.5"
  }
 },
 "nbformat": 4,
 "nbformat_minor": 1
}
